{
  "nbformat": 4,
  "nbformat_minor": 0,
  "metadata": {
    "colab": {
      "name": "pd_MELT.ipynb",
      "provenance": [],
      "collapsed_sections": [],
      "authorship_tag": "ABX9TyNgb267hkVy4JhMURQHCitS",
      "include_colab_link": true
    },
    "kernelspec": {
      "name": "python3",
      "display_name": "Python 3"
    }
  },
  "cells": [
    {
      "cell_type": "markdown",
      "metadata": {
        "id": "view-in-github",
        "colab_type": "text"
      },
      "source": [
        "<a href=\"https://colab.research.google.com/github/ddrzyzga/tricks/blob/master/PANDAS/pd_MELT.ipynb\" target=\"_parent\"><img src=\"https://colab.research.google.com/assets/colab-badge.svg\" alt=\"Open In Colab\"/></a>"
      ]
    },
    {
      "cell_type": "code",
      "metadata": {
        "id": "RatDao5K9Rti",
        "colab_type": "code",
        "colab": {}
      },
      "source": [
        "import pandas as pd"
      ],
      "execution_count": 0,
      "outputs": []
    },
    {
      "cell_type": "code",
      "metadata": {
        "id": "IwrEN7CY9YJ1",
        "colab_type": "code",
        "colab": {}
      },
      "source": [
        "# create wide dataframe\n",
        "df_wide = pd.DataFrame(\n",
        "  {\"student\": [\"Andy\", \"Bernie\", \"Cindy\", \"Deb\"],\n",
        "   \"school\":  [\"Z\", \"Y\", \"Z\", \"Y\"],\n",
        "   \"english\": [10, 100, 1000, 10000],  # eng grades\n",
        "   \"math\":    [20, 200, 2000, 20000],  # math grades\n",
        "   \"physics\": [30, 300, 3000, 30000]   # physics grades\n",
        "  }\n",
        ")"
      ],
      "execution_count": 0,
      "outputs": []
    },
    {
      "cell_type": "code",
      "metadata": {
        "id": "OzhhvRQc9azo",
        "colab_type": "code",
        "outputId": "f6a26d84-b910-4ec0-e8a2-45ca6e66ed9e",
        "colab": {
          "base_uri": "https://localhost:8080/",
          "height": 109
        }
      },
      "source": [
        "print(df_wide)"
      ],
      "execution_count": 0,
      "outputs": [
        {
          "output_type": "stream",
          "text": [
            "  student school  english   math  physics\n",
            "0    Andy      Z       10     20       30\n",
            "1  Bernie      Y      100    200      300\n",
            "2   Cindy      Z     1000   2000     3000\n",
            "3     Deb      Y    10000  20000    30000\n"
          ],
          "name": "stdout"
        }
      ]
    },
    {
      "cell_type": "code",
      "metadata": {
        "id": "3GggOsnU9iBU",
        "colab_type": "code",
        "outputId": "3c8ea336-982f-4b87-bac9-bb03e13dcd4e",
        "colab": {
          "base_uri": "https://localhost:8080/",
          "height": 426
        }
      },
      "source": [
        "df_wide.melt(id_vars=[\"student\", \"school\"],\n",
        "             var_name=\"cLaSs\",  # rename\n",
        "             value_name=\"gRaDe\")  # rename"
      ],
      "execution_count": 0,
      "outputs": [
        {
          "output_type": "execute_result",
          "data": {
            "text/html": [
              "<div>\n",
              "<style scoped>\n",
              "    .dataframe tbody tr th:only-of-type {\n",
              "        vertical-align: middle;\n",
              "    }\n",
              "\n",
              "    .dataframe tbody tr th {\n",
              "        vertical-align: top;\n",
              "    }\n",
              "\n",
              "    .dataframe thead th {\n",
              "        text-align: right;\n",
              "    }\n",
              "</style>\n",
              "<table border=\"1\" class=\"dataframe\">\n",
              "  <thead>\n",
              "    <tr style=\"text-align: right;\">\n",
              "      <th></th>\n",
              "      <th>student</th>\n",
              "      <th>school</th>\n",
              "      <th>cLaSs</th>\n",
              "      <th>gRaDe</th>\n",
              "    </tr>\n",
              "  </thead>\n",
              "  <tbody>\n",
              "    <tr>\n",
              "      <th>0</th>\n",
              "      <td>Andy</td>\n",
              "      <td>Z</td>\n",
              "      <td>english</td>\n",
              "      <td>10</td>\n",
              "    </tr>\n",
              "    <tr>\n",
              "      <th>1</th>\n",
              "      <td>Bernie</td>\n",
              "      <td>Y</td>\n",
              "      <td>english</td>\n",
              "      <td>100</td>\n",
              "    </tr>\n",
              "    <tr>\n",
              "      <th>2</th>\n",
              "      <td>Cindy</td>\n",
              "      <td>Z</td>\n",
              "      <td>english</td>\n",
              "      <td>1000</td>\n",
              "    </tr>\n",
              "    <tr>\n",
              "      <th>3</th>\n",
              "      <td>Deb</td>\n",
              "      <td>Y</td>\n",
              "      <td>english</td>\n",
              "      <td>10000</td>\n",
              "    </tr>\n",
              "    <tr>\n",
              "      <th>4</th>\n",
              "      <td>Andy</td>\n",
              "      <td>Z</td>\n",
              "      <td>math</td>\n",
              "      <td>20</td>\n",
              "    </tr>\n",
              "    <tr>\n",
              "      <th>5</th>\n",
              "      <td>Bernie</td>\n",
              "      <td>Y</td>\n",
              "      <td>math</td>\n",
              "      <td>200</td>\n",
              "    </tr>\n",
              "    <tr>\n",
              "      <th>6</th>\n",
              "      <td>Cindy</td>\n",
              "      <td>Z</td>\n",
              "      <td>math</td>\n",
              "      <td>2000</td>\n",
              "    </tr>\n",
              "    <tr>\n",
              "      <th>7</th>\n",
              "      <td>Deb</td>\n",
              "      <td>Y</td>\n",
              "      <td>math</td>\n",
              "      <td>20000</td>\n",
              "    </tr>\n",
              "    <tr>\n",
              "      <th>8</th>\n",
              "      <td>Andy</td>\n",
              "      <td>Z</td>\n",
              "      <td>physics</td>\n",
              "      <td>30</td>\n",
              "    </tr>\n",
              "    <tr>\n",
              "      <th>9</th>\n",
              "      <td>Bernie</td>\n",
              "      <td>Y</td>\n",
              "      <td>physics</td>\n",
              "      <td>300</td>\n",
              "    </tr>\n",
              "    <tr>\n",
              "      <th>10</th>\n",
              "      <td>Cindy</td>\n",
              "      <td>Z</td>\n",
              "      <td>physics</td>\n",
              "      <td>3000</td>\n",
              "    </tr>\n",
              "    <tr>\n",
              "      <th>11</th>\n",
              "      <td>Deb</td>\n",
              "      <td>Y</td>\n",
              "      <td>physics</td>\n",
              "      <td>30000</td>\n",
              "    </tr>\n",
              "  </tbody>\n",
              "</table>\n",
              "</div>"
            ],
            "text/plain": [
              "   student school    cLaSs  gRaDe\n",
              "0     Andy      Z  english     10\n",
              "1   Bernie      Y  english    100\n",
              "2    Cindy      Z  english   1000\n",
              "3      Deb      Y  english  10000\n",
              "4     Andy      Z     math     20\n",
              "5   Bernie      Y     math    200\n",
              "6    Cindy      Z     math   2000\n",
              "7      Deb      Y     math  20000\n",
              "8     Andy      Z  physics     30\n",
              "9   Bernie      Y  physics    300\n",
              "10   Cindy      Z  physics   3000\n",
              "11     Deb      Y  physics  30000"
            ]
          },
          "metadata": {
            "tags": []
          },
          "execution_count": 4
        }
      ]
    },
    {
      "cell_type": "code",
      "metadata": {
        "id": "Dqo3DmQlDM8z",
        "colab_type": "code",
        "colab": {}
      },
      "source": [
        ""
      ],
      "execution_count": 0,
      "outputs": []
    },
    {
      "cell_type": "markdown",
      "metadata": {
        "id": "HCrdTL2UDWKv",
        "colab_type": "text"
      },
      "source": [
        "Melt Example 2\n"
      ]
    },
    {
      "cell_type": "markdown",
      "metadata": {
        "id": "ATPNZz5qDcOr",
        "colab_type": "text"
      },
      "source": [
        "You can use value_vars to specify which columns you want to melt or stack into column (here, we exclude physics column, so value_vars=[\"english\", \"math\"]). We also drop the school column from id_vars."
      ]
    },
    {
      "cell_type": "code",
      "metadata": {
        "id": "7gK1LZFLDYMi",
        "colab_type": "code",
        "outputId": "2d870060-55b4-4eb1-b0b7-c2855140fc46",
        "colab": {
          "base_uri": "https://localhost:8080/",
          "height": 175
        }
      },
      "source": [
        "df_wide"
      ],
      "execution_count": 0,
      "outputs": [
        {
          "output_type": "execute_result",
          "data": {
            "text/html": [
              "<div>\n",
              "<style scoped>\n",
              "    .dataframe tbody tr th:only-of-type {\n",
              "        vertical-align: middle;\n",
              "    }\n",
              "\n",
              "    .dataframe tbody tr th {\n",
              "        vertical-align: top;\n",
              "    }\n",
              "\n",
              "    .dataframe thead th {\n",
              "        text-align: right;\n",
              "    }\n",
              "</style>\n",
              "<table border=\"1\" class=\"dataframe\">\n",
              "  <thead>\n",
              "    <tr style=\"text-align: right;\">\n",
              "      <th></th>\n",
              "      <th>student</th>\n",
              "      <th>school</th>\n",
              "      <th>english</th>\n",
              "      <th>math</th>\n",
              "      <th>physics</th>\n",
              "    </tr>\n",
              "  </thead>\n",
              "  <tbody>\n",
              "    <tr>\n",
              "      <th>0</th>\n",
              "      <td>Andy</td>\n",
              "      <td>Z</td>\n",
              "      <td>10</td>\n",
              "      <td>20</td>\n",
              "      <td>30</td>\n",
              "    </tr>\n",
              "    <tr>\n",
              "      <th>1</th>\n",
              "      <td>Bernie</td>\n",
              "      <td>Y</td>\n",
              "      <td>100</td>\n",
              "      <td>200</td>\n",
              "      <td>300</td>\n",
              "    </tr>\n",
              "    <tr>\n",
              "      <th>2</th>\n",
              "      <td>Cindy</td>\n",
              "      <td>Z</td>\n",
              "      <td>1000</td>\n",
              "      <td>2000</td>\n",
              "      <td>3000</td>\n",
              "    </tr>\n",
              "    <tr>\n",
              "      <th>3</th>\n",
              "      <td>Deb</td>\n",
              "      <td>Y</td>\n",
              "      <td>10000</td>\n",
              "      <td>20000</td>\n",
              "      <td>30000</td>\n",
              "    </tr>\n",
              "  </tbody>\n",
              "</table>\n",
              "</div>"
            ],
            "text/plain": [
              "  student school  english   math  physics\n",
              "0    Andy      Z       10     20       30\n",
              "1  Bernie      Y      100    200      300\n",
              "2   Cindy      Z     1000   2000     3000\n",
              "3     Deb      Y    10000  20000    30000"
            ]
          },
          "metadata": {
            "tags": []
          },
          "execution_count": 5
        }
      ]
    },
    {
      "cell_type": "code",
      "metadata": {
        "id": "yx_IemDXDfkI",
        "colab_type": "code",
        "outputId": "816c3443-005b-45f1-99a5-93dd2e4e2edc",
        "colab": {
          "base_uri": "https://localhost:8080/",
          "height": 300
        }
      },
      "source": [
        "df_wide.melt(id_vars=\"student\", \n",
        "             value_vars=[\"english\", \"math\"], \n",
        "             var_name=\"cLaSs\",  # rename\n",
        "             value_name=\"gRaDe\")  # rename"
      ],
      "execution_count": 0,
      "outputs": [
        {
          "output_type": "execute_result",
          "data": {
            "text/html": [
              "<div>\n",
              "<style scoped>\n",
              "    .dataframe tbody tr th:only-of-type {\n",
              "        vertical-align: middle;\n",
              "    }\n",
              "\n",
              "    .dataframe tbody tr th {\n",
              "        vertical-align: top;\n",
              "    }\n",
              "\n",
              "    .dataframe thead th {\n",
              "        text-align: right;\n",
              "    }\n",
              "</style>\n",
              "<table border=\"1\" class=\"dataframe\">\n",
              "  <thead>\n",
              "    <tr style=\"text-align: right;\">\n",
              "      <th></th>\n",
              "      <th>student</th>\n",
              "      <th>cLaSs</th>\n",
              "      <th>gRaDe</th>\n",
              "    </tr>\n",
              "  </thead>\n",
              "  <tbody>\n",
              "    <tr>\n",
              "      <th>0</th>\n",
              "      <td>Andy</td>\n",
              "      <td>english</td>\n",
              "      <td>10</td>\n",
              "    </tr>\n",
              "    <tr>\n",
              "      <th>1</th>\n",
              "      <td>Bernie</td>\n",
              "      <td>english</td>\n",
              "      <td>100</td>\n",
              "    </tr>\n",
              "    <tr>\n",
              "      <th>2</th>\n",
              "      <td>Cindy</td>\n",
              "      <td>english</td>\n",
              "      <td>1000</td>\n",
              "    </tr>\n",
              "    <tr>\n",
              "      <th>3</th>\n",
              "      <td>Deb</td>\n",
              "      <td>english</td>\n",
              "      <td>10000</td>\n",
              "    </tr>\n",
              "    <tr>\n",
              "      <th>4</th>\n",
              "      <td>Andy</td>\n",
              "      <td>math</td>\n",
              "      <td>20</td>\n",
              "    </tr>\n",
              "    <tr>\n",
              "      <th>5</th>\n",
              "      <td>Bernie</td>\n",
              "      <td>math</td>\n",
              "      <td>200</td>\n",
              "    </tr>\n",
              "    <tr>\n",
              "      <th>6</th>\n",
              "      <td>Cindy</td>\n",
              "      <td>math</td>\n",
              "      <td>2000</td>\n",
              "    </tr>\n",
              "    <tr>\n",
              "      <th>7</th>\n",
              "      <td>Deb</td>\n",
              "      <td>math</td>\n",
              "      <td>20000</td>\n",
              "    </tr>\n",
              "  </tbody>\n",
              "</table>\n",
              "</div>"
            ],
            "text/plain": [
              "  student    cLaSs  gRaDe\n",
              "0    Andy  english     10\n",
              "1  Bernie  english    100\n",
              "2   Cindy  english   1000\n",
              "3     Deb  english  10000\n",
              "4    Andy     math     20\n",
              "5  Bernie     math    200\n",
              "6   Cindy     math   2000\n",
              "7     Deb     math  20000"
            ]
          },
          "metadata": {
            "tags": []
          },
          "execution_count": 6
        }
      ]
    },
    {
      "cell_type": "markdown",
      "metadata": {
        "id": "qeEUkxcbDppT",
        "colab_type": "text"
      },
      "source": [
        "Melt Example 3"
      ]
    },
    {
      "cell_type": "markdown",
      "metadata": {
        "id": "kgjV3GVdDtC2",
        "colab_type": "text"
      },
      "source": [
        "Finally, let’s see what happens if we specify only the student column as the identifier column (id_vars=\"student\") but do not specify which columns you want to stack via value_vars. As a result, all non-identifier columns (school, english, math, physics) will be stacked into one column."
      ]
    },
    {
      "cell_type": "code",
      "metadata": {
        "id": "-HdQDO9cDjut",
        "colab_type": "code",
        "outputId": "43118c49-a32a-436c-aed0-d4856604385d",
        "colab": {
          "base_uri": "https://localhost:8080/",
          "height": 551
        }
      },
      "source": [
        "df_wide.melt(id_vars=\"student\",\n",
        "             var_name=\"cLaSs\",  # rename\n",
        "             value_name=\"gRaDe\")  # rename"
      ],
      "execution_count": 0,
      "outputs": [
        {
          "output_type": "execute_result",
          "data": {
            "text/html": [
              "<div>\n",
              "<style scoped>\n",
              "    .dataframe tbody tr th:only-of-type {\n",
              "        vertical-align: middle;\n",
              "    }\n",
              "\n",
              "    .dataframe tbody tr th {\n",
              "        vertical-align: top;\n",
              "    }\n",
              "\n",
              "    .dataframe thead th {\n",
              "        text-align: right;\n",
              "    }\n",
              "</style>\n",
              "<table border=\"1\" class=\"dataframe\">\n",
              "  <thead>\n",
              "    <tr style=\"text-align: right;\">\n",
              "      <th></th>\n",
              "      <th>student</th>\n",
              "      <th>cLaSs</th>\n",
              "      <th>gRaDe</th>\n",
              "    </tr>\n",
              "  </thead>\n",
              "  <tbody>\n",
              "    <tr>\n",
              "      <th>0</th>\n",
              "      <td>Andy</td>\n",
              "      <td>school</td>\n",
              "      <td>Z</td>\n",
              "    </tr>\n",
              "    <tr>\n",
              "      <th>1</th>\n",
              "      <td>Bernie</td>\n",
              "      <td>school</td>\n",
              "      <td>Y</td>\n",
              "    </tr>\n",
              "    <tr>\n",
              "      <th>2</th>\n",
              "      <td>Cindy</td>\n",
              "      <td>school</td>\n",
              "      <td>Z</td>\n",
              "    </tr>\n",
              "    <tr>\n",
              "      <th>3</th>\n",
              "      <td>Deb</td>\n",
              "      <td>school</td>\n",
              "      <td>Y</td>\n",
              "    </tr>\n",
              "    <tr>\n",
              "      <th>4</th>\n",
              "      <td>Andy</td>\n",
              "      <td>english</td>\n",
              "      <td>10</td>\n",
              "    </tr>\n",
              "    <tr>\n",
              "      <th>5</th>\n",
              "      <td>Bernie</td>\n",
              "      <td>english</td>\n",
              "      <td>100</td>\n",
              "    </tr>\n",
              "    <tr>\n",
              "      <th>6</th>\n",
              "      <td>Cindy</td>\n",
              "      <td>english</td>\n",
              "      <td>1000</td>\n",
              "    </tr>\n",
              "    <tr>\n",
              "      <th>7</th>\n",
              "      <td>Deb</td>\n",
              "      <td>english</td>\n",
              "      <td>10000</td>\n",
              "    </tr>\n",
              "    <tr>\n",
              "      <th>8</th>\n",
              "      <td>Andy</td>\n",
              "      <td>math</td>\n",
              "      <td>20</td>\n",
              "    </tr>\n",
              "    <tr>\n",
              "      <th>9</th>\n",
              "      <td>Bernie</td>\n",
              "      <td>math</td>\n",
              "      <td>200</td>\n",
              "    </tr>\n",
              "    <tr>\n",
              "      <th>10</th>\n",
              "      <td>Cindy</td>\n",
              "      <td>math</td>\n",
              "      <td>2000</td>\n",
              "    </tr>\n",
              "    <tr>\n",
              "      <th>11</th>\n",
              "      <td>Deb</td>\n",
              "      <td>math</td>\n",
              "      <td>20000</td>\n",
              "    </tr>\n",
              "    <tr>\n",
              "      <th>12</th>\n",
              "      <td>Andy</td>\n",
              "      <td>physics</td>\n",
              "      <td>30</td>\n",
              "    </tr>\n",
              "    <tr>\n",
              "      <th>13</th>\n",
              "      <td>Bernie</td>\n",
              "      <td>physics</td>\n",
              "      <td>300</td>\n",
              "    </tr>\n",
              "    <tr>\n",
              "      <th>14</th>\n",
              "      <td>Cindy</td>\n",
              "      <td>physics</td>\n",
              "      <td>3000</td>\n",
              "    </tr>\n",
              "    <tr>\n",
              "      <th>15</th>\n",
              "      <td>Deb</td>\n",
              "      <td>physics</td>\n",
              "      <td>30000</td>\n",
              "    </tr>\n",
              "  </tbody>\n",
              "</table>\n",
              "</div>"
            ],
            "text/plain": [
              "   student    cLaSs  gRaDe\n",
              "0     Andy   school      Z\n",
              "1   Bernie   school      Y\n",
              "2    Cindy   school      Z\n",
              "3      Deb   school      Y\n",
              "4     Andy  english     10\n",
              "5   Bernie  english    100\n",
              "6    Cindy  english   1000\n",
              "7      Deb  english  10000\n",
              "8     Andy     math     20\n",
              "9   Bernie     math    200\n",
              "10   Cindy     math   2000\n",
              "11     Deb     math  20000\n",
              "12    Andy  physics     30\n",
              "13  Bernie  physics    300\n",
              "14   Cindy  physics   3000\n",
              "15     Deb  physics  30000"
            ]
          },
          "metadata": {
            "tags": []
          },
          "execution_count": 7
        }
      ]
    },
    {
      "cell_type": "code",
      "metadata": {
        "id": "ELEcV4xdDzP4",
        "colab_type": "code",
        "colab": {}
      },
      "source": [
        ""
      ],
      "execution_count": 0,
      "outputs": []
    }
  ]
}