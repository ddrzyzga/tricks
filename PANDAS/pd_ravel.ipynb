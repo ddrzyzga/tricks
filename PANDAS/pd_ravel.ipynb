{
  "nbformat": 4,
  "nbformat_minor": 0,
  "metadata": {
    "colab": {
      "name": "pd.ravel.ipynb",
      "provenance": [],
      "collapsed_sections": [],
      "authorship_tag": "ABX9TyMjf9K+sBrIVdQB/L1JjtYE",
      "include_colab_link": true
    },
    "kernelspec": {
      "name": "python3",
      "display_name": "Python 3"
    }
  },
  "cells": [
    {
      "cell_type": "markdown",
      "metadata": {
        "id": "view-in-github",
        "colab_type": "text"
      },
      "source": [
        "<a href=\"https://colab.research.google.com/github/ddrzyzga/tricks/blob/master/PANDAS/pd_ravel.ipynb\" target=\"_parent\"><img src=\"https://colab.research.google.com/assets/colab-badge.svg\" alt=\"Open In Colab\"/></a>"
      ]
    },
    {
      "cell_type": "code",
      "metadata": {
        "id": "z23-ABpFSm3t",
        "colab_type": "code",
        "colab": {
          "base_uri": "https://localhost:8080/",
          "height": 146
        },
        "outputId": "83035aa6-cc42-42fd-99ed-dd9603f9d3b2"
      },
      "source": [
        "import pandas as pd \n",
        "  \n",
        "# Creating the Series \n",
        "sr = pd.Series([10, 25, 3, 11, 24, 6]) \n",
        "  \n",
        "# Create the Index \n",
        "index_ = ['Coca Cola', 'Sprite', 'Coke', 'Fanta', 'Dew', 'ThumbsUp'] \n",
        "  \n",
        "# set the index \n",
        "sr.index = index_ \n",
        "  \n",
        "# Print the series \n",
        "print(sr) "
      ],
      "execution_count": 1,
      "outputs": [
        {
          "output_type": "stream",
          "text": [
            "Coca Cola    10\n",
            "Sprite       25\n",
            "Coke          3\n",
            "Fanta        11\n",
            "Dew          24\n",
            "ThumbsUp      6\n",
            "dtype: int64\n"
          ],
          "name": "stdout"
        }
      ]
    },
    {
      "cell_type": "code",
      "metadata": {
        "id": "cZ4xYvYQSxRi",
        "colab_type": "code",
        "colab": {
          "base_uri": "https://localhost:8080/",
          "height": 35
        },
        "outputId": "880f31b5-04bf-41df-903d-22c7c9a292f8"
      },
      "source": [
        "\n",
        "# return an ndarray \n",
        "result = sr.ravel() \n",
        "  \n",
        "# Print the result \n",
        "print(result) \n"
      ],
      "execution_count": 2,
      "outputs": [
        {
          "output_type": "stream",
          "text": [
            "[10 25  3 11 24  6]\n"
          ],
          "name": "stdout"
        }
      ]
    },
    {
      "cell_type": "code",
      "metadata": {
        "id": "8FCyrmBCS6Ek",
        "colab_type": "code",
        "colab": {}
      },
      "source": [
        ""
      ],
      "execution_count": 0,
      "outputs": []
    }
  ]
}